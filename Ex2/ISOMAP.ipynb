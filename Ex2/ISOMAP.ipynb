{
 "cells": [
  {
   "cell_type": "markdown",
   "metadata": {},
   "source": [
    "C-MDS >> ISOMAP"
   ]
  },
  {
   "cell_type": "code",
   "execution_count": 136,
   "metadata": {},
   "outputs": [
    {
     "data": {
      "text/html": [
       "<div>\n",
       "<style scoped>\n",
       "    .dataframe tbody tr th:only-of-type {\n",
       "        vertical-align: middle;\n",
       "    }\n",
       "\n",
       "    .dataframe tbody tr th {\n",
       "        vertical-align: top;\n",
       "    }\n",
       "\n",
       "    .dataframe thead th {\n",
       "        text-align: right;\n",
       "    }\n",
       "</style>\n",
       "<table border=\"1\" class=\"dataframe\">\n",
       "  <thead>\n",
       "    <tr style=\"text-align: right;\">\n",
       "      <th></th>\n",
       "      <th>0</th>\n",
       "      <th>1</th>\n",
       "      <th>2</th>\n",
       "      <th>3</th>\n",
       "      <th>4</th>\n",
       "      <th>5</th>\n",
       "      <th>6</th>\n",
       "      <th>7</th>\n",
       "      <th>8</th>\n",
       "      <th>9</th>\n",
       "    </tr>\n",
       "  </thead>\n",
       "  <tbody>\n",
       "    <tr>\n",
       "      <th>0</th>\n",
       "      <td>68.844221</td>\n",
       "      <td>-51.353317</td>\n",
       "      <td>213.561068</td>\n",
       "      <td>-176.373629</td>\n",
       "      <td>-98.100638</td>\n",
       "      <td>-122.033712</td>\n",
       "      <td>-103.539952</td>\n",
       "      <td>135.061472</td>\n",
       "      <td>-131.135501</td>\n",
       "      <td>41.514439</td>\n",
       "    </tr>\n",
       "    <tr>\n",
       "      <th>1</th>\n",
       "      <td>-46.733668</td>\n",
       "      <td>35.796782</td>\n",
       "      <td>-103.544282</td>\n",
       "      <td>135.799414</td>\n",
       "      <td>64.725655</td>\n",
       "      <td>54.693454</td>\n",
       "      <td>66.232147</td>\n",
       "      <td>-72.522605</td>\n",
       "      <td>59.436118</td>\n",
       "      <td>-5.632694</td>\n",
       "    </tr>\n",
       "    <tr>\n",
       "      <th>2</th>\n",
       "      <td>81.909548</td>\n",
       "      <td>-58.542035</td>\n",
       "      <td>202.727378</td>\n",
       "      <td>-235.098643</td>\n",
       "      <td>-94.538931</td>\n",
       "      <td>-127.026756</td>\n",
       "      <td>-127.820988</td>\n",
       "      <td>160.094976</td>\n",
       "      <td>-124.973684</td>\n",
       "      <td>42.822364</td>\n",
       "    </tr>\n",
       "    <tr>\n",
       "      <th>3</th>\n",
       "      <td>-68.844221</td>\n",
       "      <td>61.171767</td>\n",
       "      <td>-178.330980</td>\n",
       "      <td>183.896845</td>\n",
       "      <td>92.495030</td>\n",
       "      <td>126.764978</td>\n",
       "      <td>103.518207</td>\n",
       "      <td>-146.947253</td>\n",
       "      <td>103.142257</td>\n",
       "      <td>-39.028736</td>\n",
       "    </tr>\n",
       "    <tr>\n",
       "      <th>4</th>\n",
       "      <td>-34.673367</td>\n",
       "      <td>13.820293</td>\n",
       "      <td>-87.886735</td>\n",
       "      <td>90.628479</td>\n",
       "      <td>32.638112</td>\n",
       "      <td>56.344579</td>\n",
       "      <td>63.256513</td>\n",
       "      <td>-73.055291</td>\n",
       "      <td>55.058452</td>\n",
       "      <td>-8.095892</td>\n",
       "    </tr>\n",
       "    <tr>\n",
       "      <th>...</th>\n",
       "      <td>...</td>\n",
       "      <td>...</td>\n",
       "      <td>...</td>\n",
       "      <td>...</td>\n",
       "      <td>...</td>\n",
       "      <td>...</td>\n",
       "      <td>...</td>\n",
       "      <td>...</td>\n",
       "      <td>...</td>\n",
       "      <td>...</td>\n",
       "    </tr>\n",
       "    <tr>\n",
       "      <th>195</th>\n",
       "      <td>-45.728643</td>\n",
       "      <td>29.838406</td>\n",
       "      <td>-133.330023</td>\n",
       "      <td>127.696229</td>\n",
       "      <td>62.411398</td>\n",
       "      <td>63.138929</td>\n",
       "      <td>73.866368</td>\n",
       "      <td>-105.864542</td>\n",
       "      <td>71.755116</td>\n",
       "      <td>-34.824781</td>\n",
       "    </tr>\n",
       "    <tr>\n",
       "      <th>196</th>\n",
       "      <td>-59.798995</td>\n",
       "      <td>36.940478</td>\n",
       "      <td>-164.913746</td>\n",
       "      <td>169.046863</td>\n",
       "      <td>104.843752</td>\n",
       "      <td>120.086974</td>\n",
       "      <td>74.309701</td>\n",
       "      <td>-115.057938</td>\n",
       "      <td>94.709032</td>\n",
       "      <td>-28.675584</td>\n",
       "    </tr>\n",
       "    <tr>\n",
       "      <th>197</th>\n",
       "      <td>-65.829146</td>\n",
       "      <td>38.343033</td>\n",
       "      <td>-182.328477</td>\n",
       "      <td>180.037960</td>\n",
       "      <td>88.640283</td>\n",
       "      <td>124.182792</td>\n",
       "      <td>99.955863</td>\n",
       "      <td>-122.212228</td>\n",
       "      <td>93.896114</td>\n",
       "      <td>-35.157555</td>\n",
       "    </tr>\n",
       "    <tr>\n",
       "      <th>198</th>\n",
       "      <td>-69.849246</td>\n",
       "      <td>58.618229</td>\n",
       "      <td>-187.604061</td>\n",
       "      <td>222.022752</td>\n",
       "      <td>103.759432</td>\n",
       "      <td>125.513595</td>\n",
       "      <td>95.665621</td>\n",
       "      <td>-139.010331</td>\n",
       "      <td>98.994878</td>\n",
       "      <td>-31.345842</td>\n",
       "    </tr>\n",
       "    <tr>\n",
       "      <th>199</th>\n",
       "      <td>-1.507538</td>\n",
       "      <td>-16.647043</td>\n",
       "      <td>-7.023181</td>\n",
       "      <td>-12.184449</td>\n",
       "      <td>14.943719</td>\n",
       "      <td>-3.917991</td>\n",
       "      <td>-11.143739</td>\n",
       "      <td>-1.759784</td>\n",
       "      <td>9.425637</td>\n",
       "      <td>-1.178348</td>\n",
       "    </tr>\n",
       "  </tbody>\n",
       "</table>\n",
       "<p>200 rows × 10 columns</p>\n",
       "</div>"
      ],
      "text/plain": [
       "             0          1           2           3           4           5  \\\n",
       "0    68.844221 -51.353317  213.561068 -176.373629  -98.100638 -122.033712   \n",
       "1   -46.733668  35.796782 -103.544282  135.799414   64.725655   54.693454   \n",
       "2    81.909548 -58.542035  202.727378 -235.098643  -94.538931 -127.026756   \n",
       "3   -68.844221  61.171767 -178.330980  183.896845   92.495030  126.764978   \n",
       "4   -34.673367  13.820293  -87.886735   90.628479   32.638112   56.344579   \n",
       "..         ...        ...         ...         ...         ...         ...   \n",
       "195 -45.728643  29.838406 -133.330023  127.696229   62.411398   63.138929   \n",
       "196 -59.798995  36.940478 -164.913746  169.046863  104.843752  120.086974   \n",
       "197 -65.829146  38.343033 -182.328477  180.037960   88.640283  124.182792   \n",
       "198 -69.849246  58.618229 -187.604061  222.022752  103.759432  125.513595   \n",
       "199  -1.507538 -16.647043   -7.023181  -12.184449   14.943719   -3.917991   \n",
       "\n",
       "              6           7           8          9  \n",
       "0   -103.539952  135.061472 -131.135501  41.514439  \n",
       "1     66.232147  -72.522605   59.436118  -5.632694  \n",
       "2   -127.820988  160.094976 -124.973684  42.822364  \n",
       "3    103.518207 -146.947253  103.142257 -39.028736  \n",
       "4     63.256513  -73.055291   55.058452  -8.095892  \n",
       "..          ...         ...         ...        ...  \n",
       "195   73.866368 -105.864542   71.755116 -34.824781  \n",
       "196   74.309701 -115.057938   94.709032 -28.675584  \n",
       "197   99.955863 -122.212228   93.896114 -35.157555  \n",
       "198   95.665621 -139.010331   98.994878 -31.345842  \n",
       "199  -11.143739   -1.759784    9.425637  -1.178348  \n",
       "\n",
       "[200 rows x 10 columns]"
      ]
     },
     "execution_count": 136,
     "metadata": {},
     "output_type": "execute_result"
    }
   ],
   "source": [
    "import pandas as pd\n",
    "import os\n",
    "import numpy as np\n",
    "import matplotlib.pyplot as plt\n",
    "filename = os.getcwd()+\"\\\\datasets\\\\hyperplane.csv\"\n",
    "dataset=pd.read_csv(filename)\n",
    "\n",
    "limit_obs = 200\n",
    "limit_comp = 10\n",
    "X = dataset.iloc[:limit_obs, :limit_comp].values  \n",
    "y = dataset.iloc[:limit_obs, -1].values\n",
    "\n",
    "pd.DataFrame(X)"
   ]
  },
  {
   "cell_type": "code",
   "execution_count": 137,
   "metadata": {},
   "outputs": [],
   "source": [
    "from sklearn.model_selection import train_test_split\n",
    "X_train, X_test, y_train, y_test = train_test_split(X, y, test_size = 0.2, random_state = 0)"
   ]
  },
  {
   "cell_type": "code",
   "execution_count": 138,
   "metadata": {},
   "outputs": [],
   "source": [
    "from sklearn.preprocessing import StandardScaler\n",
    "sc = StandardScaler()\n",
    "X_train = sc.fit_transform(X_train)\n",
    "X_test = sc.transform(X_test)"
   ]
  },
  {
   "cell_type": "code",
   "execution_count": 139,
   "metadata": {},
   "outputs": [],
   "source": [
    "# Floyd Warshall Algorithm\n",
    "#https://cppsecrets.com/users/5629115104105118971091101011031055657495564103109971051084699111109/Python-Floyd-Warshall-Algorithm.php\n",
    "INF = float(\"inf\")\n",
    "\n",
    "# for Kernep PCA we use a threshold distance\n",
    "\n",
    "def floydWarshall(graph, threshold):\n",
    "    # number of vertices in the graph\n",
    "    n = len(graph)\n",
    "    \n",
    "    # dist will be the output matrix that will have the shortest distances between every pair of vertex.\n",
    "    dist = [[] for _ in range(n)]\n",
    "    \n",
    "    \n",
    "    # Initialize the dist matrix as same as the input graph matrix.\n",
    "    for i in range(n):\n",
    "        for j in range(n):\n",
    "            if (graph[i][j] < threshold): \n",
    "                dist[i].append(abs(graph[i][j]))\n",
    "            else:\n",
    "                dist[i].append(INF)\n",
    "\n",
    "    # Taking all vertices one by one and setting them as intermediate vertices\n",
    "    for k in range(n):\n",
    "        # Pick all vertices as source one by one.\n",
    "        for i in range(n):\n",
    "            # Pick all vertices as the destination for the above choosen source vertex.\n",
    "            for j in range(n):\n",
    "                # Update the value of dist[i][j] if k provides a shortest path from i to j\n",
    "                dist[i][j] = min(dist[i][j],dist[i][k]+dist[k][j])\n",
    "\n",
    "    # print shortest distance for every pair of vertex.\n",
    "    return np.array(dist)\n"
   ]
  },
  {
   "cell_type": "code",
   "execution_count": 140,
   "metadata": {},
   "outputs": [
    {
     "data": {
      "text/plain": [
       "(200, 200)"
      ]
     },
     "execution_count": 140,
     "metadata": {},
     "output_type": "execute_result"
    }
   ],
   "source": [
    "#Gram Matrix\n",
    "G = X.dot(X.T)\n",
    "G.shape"
   ]
  },
  {
   "cell_type": "code",
   "execution_count": 141,
   "metadata": {},
   "outputs": [],
   "source": [
    "threshold = 1.0\n",
    "\n",
    "dist = floydWarshall(G, threshold)\n",
    "df= pd.DataFrame(dist)"
   ]
  },
  {
   "cell_type": "code",
   "execution_count": 142,
   "metadata": {},
   "outputs": [],
   "source": [
    "## covariance matrix\n",
    "C = np.cov(X_train, rowvar = False)\n"
   ]
  },
  {
   "cell_type": "code",
   "execution_count": 143,
   "metadata": {},
   "outputs": [],
   "source": [
    "#classical MDS - cmdscale\n",
    "from __future__ import division\n",
    "import numpy as np\n",
    " \n",
    "def cmdscale(D):\n",
    "    \"\"\"                                                                                       \n",
    "    Classical multidimensional scaling (MDS)                                                  \n",
    "                                                                                               \n",
    "    Parameters                                                                                \n",
    "    ----------                                                                                \n",
    "    D : (n, n) array                                                                          \n",
    "        Symmetric distance matrix.                                                            \n",
    "                                                                                               \n",
    "    Returns                                                                                   \n",
    "    -------                                                                                   \n",
    "    Y : (n, p) array                                                                          \n",
    "        Configuration matrix. Each column represents a dimension. Only the                    \n",
    "        p dimensions corresponding to positive eigenvalues of B are returned.                 \n",
    "        Note that each dimension is only determined up to an overall sign,                    \n",
    "        corresponding to a reflection.                                                        \n",
    "                                                                                               \n",
    "    e : (n,) array                                                                            \n",
    "        Eigenvalues of B.                                                                     \n",
    "                                                                                               \n",
    "    \"\"\"\n",
    "    # Number of points                                                                        \n",
    "    n = len(D)\n",
    " \n",
    "    # Centering matrix                                                                        \n",
    "    H = np.eye(n) - np.ones((n, n))/n\n",
    " \n",
    "    # YY^T                                                                                    \n",
    "    B = -H.dot(D**2).dot(H)/2\n",
    " \n",
    "    # Diagonalize                                                                             \n",
    "    evals, evecs = np.linalg.eigh(B)\n",
    " \n",
    "    # Sort by eigenvalue in descending order                                                  \n",
    "    idx   = np.argsort(evals)[::-1]\n",
    "    evals = evals[idx]\n",
    "    evecs = evecs[:,idx]\n",
    " \n",
    "    # Compute the coordinates using positive-eigenvalued components only                      \n",
    "    w, = np.where(evals > 0)\n",
    "    L  = np.diag(np.sqrt(evals[w]))\n",
    "    V  = evecs[:,w]\n",
    "    Y  = V.dot(L)\n",
    " \n",
    "    return Y, evals"
   ]
  },
  {
   "cell_type": "code",
   "execution_count": 144,
   "metadata": {},
   "outputs": [
    {
     "data": {
      "image/png": "[encoded data removed]",
      "text/plain": [
       "<Figure size 432x288 with 1 Axes>"
      ]
     },
     "metadata": {
      "needs_background": "light"
     },
     "output_type": "display_data"
    }
   ],
   "source": [
    "#MDS of Gram matrix\n",
    "G = X.dot(X.T)\n",
    "Y, evals = cmdscale(G)\n",
    "#eigenvalue spectrum log scale\n",
    "fig, ax = plt.subplots()\n",
    "bar_plot = plt.bar( x=range(len(evals)), height=evals,  alpha = .5)\n",
    "plt.title(f'Eigenvalues spectrum')\n",
    "plt.xlabel('principal components')\n",
    "plt.ylabel('value [log]')\n",
    "plt.yscale(\"log\")\n",
    "plt.gca().spines['right'].set_visible(False)\n",
    "plt.gca().spines['top'].set_visible(False)"
   ]
  },
  {
   "cell_type": "code",
   "execution_count": 145,
   "metadata": {},
   "outputs": [
    {
     "data": {
      "image/png": "[encoded data removed]",
      "text/plain": [
       "<Figure size 432x288 with 1 Axes>"
      ]
     },
     "metadata": {
      "needs_background": "light"
     },
     "output_type": "display_data"
    }
   ],
   "source": [
    "#ISOMAP = MDS of distance matrix\n",
    "threshold = 0.0\n",
    "dist = floydWarshall(G, threshold)\n",
    "Y, evals = cmdscale(dist)\n",
    "#eigenvalue spectrum log scale\n",
    "fig, ax = plt.subplots()\n",
    "bar_plot = plt.bar( x=range(len(evals)), height=evals,  alpha = .5)\n",
    "plt.title(f'Eigenvalues spectrum')\n",
    "plt.xlabel('principal components')\n",
    "plt.ylabel('value [log]')\n",
    "plt.yscale(\"log\")\n",
    "plt.gca().spines['right'].set_visible(False)\n",
    "plt.gca().spines['top'].set_visible(False)\n"
   ]
  },
  {
   "cell_type": "code",
   "execution_count": 146,
   "metadata": {},
   "outputs": [
    {
     "data": {
      "text/plain": [
       "(array([10881497.15969332,  5990176.11779703]),\n",
       " array([[-1.62910155e+02, -2.78323942e+02,  9.15463261e+01,\n",
       "         -5.35316074e+01,  1.27902561e+01, -9.13093980e+00,\n",
       "          4.93399127e+00, -8.28501537e-01,  1.38443288e+00,\n",
       "         -3.15179928e+00,  3.93259497e-01,  1.32943635e+00,\n",
       "          1.17178894e-01,  2.85147179e-01, -1.75519096e-01,\n",
       "         -2.65442132e-01, -5.04560517e-01, -4.45639539e-01,\n",
       "          4.14873987e-01, -1.49255803e-01,  2.40693342e-04,\n",
       "         -4.35682276e-02,  1.51848212e-04,  2.30036337e-07,\n",
       "          6.35032319e-07,  3.02005816e-07,  1.42353391e-07,\n",
       "          5.81535269e-07,  0.00000000e+00,  4.51636095e-07,\n",
       "          6.87880787e-05,  0.00000000e+00,  0.00000000e+00,\n",
       "          3.84560479e-07,  0.00000000e+00,  0.00000000e+00,\n",
       "          0.00000000e+00, -1.71078126e-07,  0.00000000e+00,\n",
       "          0.00000000e+00,  0.00000000e+00,  0.00000000e+00,\n",
       "          0.00000000e+00,  0.00000000e+00,  0.00000000e+00,\n",
       "          1.88836574e-07,  0.00000000e+00,  0.00000000e+00,\n",
       "          0.00000000e+00,  0.00000000e+00,  0.00000000e+00,\n",
       "          0.00000000e+00,  0.00000000e+00,  0.00000000e+00,\n",
       "          0.00000000e+00,  0.00000000e+00,  0.00000000e+00,\n",
       "          0.00000000e+00,  0.00000000e+00,  0.00000000e+00,\n",
       "          0.00000000e+00,  0.00000000e+00,  0.00000000e+00,\n",
       "          0.00000000e+00,  0.00000000e+00,  0.00000000e+00,\n",
       "          0.00000000e+00,  0.00000000e+00,  1.31545665e-07,\n",
       "          0.00000000e+00,  0.00000000e+00,  0.00000000e+00,\n",
       "          0.00000000e+00,  0.00000000e+00,  0.00000000e+00,\n",
       "          0.00000000e+00,  0.00000000e+00,  0.00000000e+00,\n",
       "          0.00000000e+00,  0.00000000e+00,  0.00000000e+00,\n",
       "          0.00000000e+00,  0.00000000e+00,  0.00000000e+00,\n",
       "          0.00000000e+00,  0.00000000e+00,  0.00000000e+00,\n",
       "          0.00000000e+00,  0.00000000e+00,  0.00000000e+00,\n",
       "          0.00000000e+00,  0.00000000e+00,  0.00000000e+00,\n",
       "          0.00000000e+00],\n",
       "        [ 3.42818227e+02, -9.98066566e+01, -2.84916125e+01,\n",
       "          9.75410598e+00, -6.23410067e-01,  1.67546844e+00,\n",
       "          6.11651821e-01,  1.12173644e-01,  8.08579233e-01,\n",
       "         -2.02615095e+00, -4.40190028e-01, -1.00027412e+00,\n",
       "          4.59977957e-01, -1.44514973e+00, -4.68503085e-01,\n",
       "         -3.11095591e-01, -1.93485587e-01, -2.81267221e-01,\n",
       "          1.13783100e-01,  4.11401557e-01, -2.95263718e-02,\n",
       "          4.91384614e-03,  2.27821343e-04, -1.33262530e-06,\n",
       "         -2.87616842e-05, -1.46795907e-06,  2.10228426e-05,\n",
       "         -4.54736521e-07, -1.62639134e-05, -7.69650030e-06,\n",
       "          6.17001987e-07, -1.19432732e-05,  2.43203150e-06,\n",
       "         -7.25965477e-06, -4.71053324e-06, -5.79339489e-06,\n",
       "         -2.13706408e-06, -2.57035289e-06,  3.64730617e-06,\n",
       "          7.05791646e-06,  5.70427292e-06,  2.34227931e-06,\n",
       "          2.16319633e-07,  8.02078463e-08, -2.84443528e-06,\n",
       "         -6.51690526e-06, -5.06122434e-06, -4.90288091e-07,\n",
       "          1.10139266e-06,  3.50604076e-06,  1.30888144e-06,\n",
       "          1.06531605e-07,  1.61194230e-06, -2.41018790e-07,\n",
       "         -1.26538596e-06, -7.03179134e-07, -1.03171097e-06,\n",
       "          1.78960109e-06,  2.51304202e-08, -1.38298913e-06,\n",
       "         -1.20046038e-07, -1.51074457e-08,  5.54730082e-07,\n",
       "         -7.21447207e-07, -3.13689194e-07,  6.71878394e-07,\n",
       "         -3.10273243e-07,  2.57001837e-09,  1.32840684e-07,\n",
       "         -1.40004048e-06, -5.37649601e-08,  8.26756522e-08,\n",
       "          1.41325703e-07, -2.69480497e-08,  1.23861872e-07,\n",
       "         -6.63395322e-07, -1.30765831e-07, -3.45017544e-07,\n",
       "         -3.91308354e-08,  8.79315963e-07,  3.89022831e-07,\n",
       "          2.55391480e-08, -3.94801208e-07,  1.56383412e-07,\n",
       "         -7.10956107e-08,  2.46492078e-08, -1.34010115e-07,\n",
       "          1.38507663e-08, -9.77512656e-08,  2.47673970e-07,\n",
       "          8.30672997e-08,  1.57655612e-07,  2.68297914e-08,\n",
       "         -1.00653088e-07]]))"
      ]
     },
     "execution_count": 146,
     "metadata": {},
     "output_type": "execute_result"
    }
   ],
   "source": [
    "evals[:2], Y[:2]"
   ]
  },
  {
   "cell_type": "code",
   "execution_count": 147,
   "metadata": {},
   "outputs": [
    {
     "name": "stdout",
     "output_type": "stream",
     "text": [
      "(2, 94)\n"
     ]
    }
   ],
   "source": [
    "import matplotlib.pyplot as plt\n",
    "Y2 = Y[:2]*len(Y)\n",
    "print(Y2.shape)"
   ]
  },
  {
   "cell_type": "code",
   "execution_count": 148,
   "metadata": {},
   "outputs": [
    {
     "data": {
      "text/plain": [
       "<matplotlib.collections.PathCollection at 0x208ff42e340>"
      ]
     },
     "execution_count": 148,
     "metadata": {},
     "output_type": "execute_result"
    },
    {
     "data": {
      "image/png": "[encoded data removed]",
      "text/plain": [
       "<Figure size 432x288 with 1 Axes>"
      ]
     },
     "metadata": {
      "needs_background": "light"
     },
     "output_type": "display_data"
    }
   ],
   "source": [
    "plt.scatter(y=Y2[0], x=Y2[1])"
   ]
  }
 ],
 "metadata": {
  "interpreter": {
   "hash": "46c56b00a886f01d69e776668ca12acc0de9f7c8f388e5060811cd7865d8f9b3"
  },
  "kernelspec": {
   "display_name": "Python 3.9.4 64-bit",
   "language": "python",
   "name": "python3"
  },
  "language_info": {
   "codemirror_mode": {
    "name": "ipython",
    "version": 3
   },
   "file_extension": ".py",
   "mimetype": "text/x-python",
   "name": "python",
   "nbconvert_exporter": "python",
   "pygments_lexer": "ipython3",
   "version": "3.9.4"
  },
  "orig_nbformat": 4
 },
 "nbformat": 4,
 "nbformat_minor": 2
}
