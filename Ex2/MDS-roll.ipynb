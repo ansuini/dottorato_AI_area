{
 "cells": [
  {
   "cell_type": "markdown",
   "metadata": {},
   "source": [
    "C-MDS Classical Multi Dimensional Scaling"
   ]
  },
  {
   "cell_type": "markdown",
   "metadata": {},
   "source": [
    "https://en.wikipedia.org/wiki/Multidimensional_scaling\n",
    "http://www.nervouscomputer.com/hfs/cmdscale-in-python/"
   ]
  },
  {
   "cell_type": "markdown",
   "metadata": {},
   "source": [
    "Classical multidimensional scaling (MDS) is a useful way to visualize high-dimensional distance (or “dissimilarity”) data in a few—usually two—dimensions, though it’s actually derived by asking the question, what are the coordinates of a set of points with given pairwise distances? See, for example, Multidimensional Scaling, Second Edition. Matlab has a built-in function, cmdscale, that does this for you, but in Python you have to write your own. Luckily, it’s pretty simple. Here’s the whole thing:"
   ]
  },
  {
   "cell_type": "code",
   "execution_count": 1,
   "metadata": {},
   "outputs": [],
   "source": [
    "from __future__ import division\n",
    "import numpy as np\n",
    " \n",
    "def cmdscale(D):\n",
    "    \"\"\"                                                                                       \n",
    "    Classical multidimensional scaling (MDS)                                                  \n",
    "                                                                                               \n",
    "    Parameters                                                                                \n",
    "    ----------                                                                                \n",
    "    D : (n, n) array                                                                          \n",
    "        Symmetric distance matrix.                                                            \n",
    "                                                                                               \n",
    "    Returns                                                                                   \n",
    "    -------                                                                                   \n",
    "    Y : (n, p) array                                                                          \n",
    "        Configuration matrix. Each column represents a dimension. Only the                    \n",
    "        p dimensions corresponding to positive eigenvalues of B are returned.                 \n",
    "        Note that each dimension is only determined up to an overall sign,                    \n",
    "        corresponding to a reflection.                                                        \n",
    "                                                                                               \n",
    "    e : (n,) array                                                                            \n",
    "        Eigenvalues of B.                                                                     \n",
    "                                                                                               \n",
    "    \"\"\"\n",
    "    # Number of points                                                                        \n",
    "    n = len(D)\n",
    " \n",
    "    # Centering matrix                                                                        \n",
    "    H = np.eye(n) - np.ones((n, n))/n\n",
    " \n",
    "    # YY^T                                                                                    \n",
    "    B = -H.dot(D**2).dot(H)/2\n",
    " \n",
    "    # Diagonalize                                                                             \n",
    "    evals, evecs = np.linalg.eigh(B)\n",
    " \n",
    "    # Sort by eigenvalue in descending order                                                  \n",
    "    idx   = np.argsort(evals)[::-1]\n",
    "    evals = evals[idx]\n",
    "    evecs = evecs[:,idx]\n",
    " \n",
    "    # Compute the coordinates using positive-eigenvalued components only                      \n",
    "    w, = np.where(evals > 0)\n",
    "    L  = np.diag(np.sqrt(evals[w]))\n",
    "    V  = evecs[:,w]\n",
    "    Y  = V.dot(L)\n",
    " \n",
    "    return Y, evals"
   ]
  },
  {
   "cell_type": "code",
   "execution_count": 2,
   "metadata": {},
   "outputs": [
    {
     "data": {
      "text/html": [
       "<div>\n",
       "<style scoped>\n",
       "    .dataframe tbody tr th:only-of-type {\n",
       "        vertical-align: middle;\n",
       "    }\n",
       "\n",
       "    .dataframe tbody tr th {\n",
       "        vertical-align: top;\n",
       "    }\n",
       "\n",
       "    .dataframe thead th {\n",
       "        text-align: right;\n",
       "    }\n",
       "</style>\n",
       "<table border=\"1\" class=\"dataframe\">\n",
       "  <thead>\n",
       "    <tr style=\"text-align: right;\">\n",
       "      <th></th>\n",
       "      <th>x</th>\n",
       "      <th>y</th>\n",
       "      <th>z</th>\n",
       "      <th>label</th>\n",
       "    </tr>\n",
       "  </thead>\n",
       "  <tbody>\n",
       "    <tr>\n",
       "      <th>0</th>\n",
       "      <td>9.776256</td>\n",
       "      <td>12.774458</td>\n",
       "      <td>-5.027362</td>\n",
       "      <td>11.895595</td>\n",
       "    </tr>\n",
       "    <tr>\n",
       "      <th>1</th>\n",
       "      <td>-1.962271</td>\n",
       "      <td>3.671790</td>\n",
       "      <td>9.017432</td>\n",
       "      <td>8.043222</td>\n",
       "    </tr>\n",
       "    <tr>\n",
       "      <th>2</th>\n",
       "      <td>4.136847</td>\n",
       "      <td>8.753212</td>\n",
       "      <td>1.812413</td>\n",
       "      <td>6.860596</td>\n",
       "    </tr>\n",
       "    <tr>\n",
       "      <th>3</th>\n",
       "      <td>0.343525</td>\n",
       "      <td>6.593736</td>\n",
       "      <td>-8.360199</td>\n",
       "      <td>4.878650</td>\n",
       "    </tr>\n",
       "    <tr>\n",
       "      <th>4</th>\n",
       "      <td>-3.315558</td>\n",
       "      <td>21.336510</td>\n",
       "      <td>-5.208921</td>\n",
       "      <td>10.163064</td>\n",
       "    </tr>\n",
       "    <tr>\n",
       "      <th>...</th>\n",
       "      <td>...</td>\n",
       "      <td>...</td>\n",
       "      <td>...</td>\n",
       "      <td>...</td>\n",
       "    </tr>\n",
       "    <tr>\n",
       "      <th>4995</th>\n",
       "      <td>-9.259536</td>\n",
       "      <td>19.639284</td>\n",
       "      <td>3.254778</td>\n",
       "      <td>9.171088</td>\n",
       "    </tr>\n",
       "    <tr>\n",
       "      <th>4996</th>\n",
       "      <td>8.270014</td>\n",
       "      <td>7.368141</td>\n",
       "      <td>-2.864452</td>\n",
       "      <td>6.173011</td>\n",
       "    </tr>\n",
       "    <tr>\n",
       "      <th>4997</th>\n",
       "      <td>11.509900</td>\n",
       "      <td>13.567623</td>\n",
       "      <td>9.833746</td>\n",
       "      <td>13.259691</td>\n",
       "    </tr>\n",
       "    <tr>\n",
       "      <th>4998</th>\n",
       "      <td>-7.576079</td>\n",
       "      <td>5.814287</td>\n",
       "      <td>6.874807</td>\n",
       "      <td>8.821710</td>\n",
       "    </tr>\n",
       "    <tr>\n",
       "      <th>4999</th>\n",
       "      <td>-5.349896</td>\n",
       "      <td>7.604760</td>\n",
       "      <td>5.416885</td>\n",
       "      <td>8.725069</td>\n",
       "    </tr>\n",
       "  </tbody>\n",
       "</table>\n",
       "<p>5000 rows × 4 columns</p>\n",
       "</div>"
      ],
      "text/plain": [
       "              x          y         z      label\n",
       "0      9.776256  12.774458 -5.027362  11.895595\n",
       "1     -1.962271   3.671790  9.017432   8.043222\n",
       "2      4.136847   8.753212  1.812413   6.860596\n",
       "3      0.343525   6.593736 -8.360199   4.878650\n",
       "4     -3.315558  21.336510 -5.208921  10.163064\n",
       "...         ...        ...       ...        ...\n",
       "4995  -9.259536  19.639284  3.254778   9.171088\n",
       "4996   8.270014   7.368141 -2.864452   6.173011\n",
       "4997  11.509900  13.567623  9.833746  13.259691\n",
       "4998  -7.576079   5.814287  6.874807   8.821710\n",
       "4999  -5.349896   7.604760  5.416885   8.725069\n",
       "\n",
       "[5000 rows x 4 columns]"
      ]
     },
     "execution_count": 2,
     "metadata": {},
     "output_type": "execute_result"
    }
   ],
   "source": [
    "import pandas as pd\n",
    "import os\n",
    "filename = os.getcwd()+\"\\\\datasets\\\\roll_noise.csv\"\n",
    "\n",
    "df=pd.read_csv(filename)\n",
    "df\n"
   ]
  },
  {
   "cell_type": "code",
   "execution_count": 3,
   "metadata": {},
   "outputs": [
    {
     "data": {
      "text/plain": [
       "(5000, 5000)"
      ]
     },
     "execution_count": 3,
     "metadata": {},
     "output_type": "execute_result"
    }
   ],
   "source": [
    "import numpy as np\n",
    "X=np.array(df.iloc[:,:3])\n",
    "\n",
    "#Euclidean Distance Matrix #https://medium.com/swlh/euclidean-distance-matrix-4c3e1378d87f\n",
    "#Gram Matrix\n",
    "G = X.dot(X.T)\n",
    "G.shape"
   ]
  },
  {
   "cell_type": "code",
   "execution_count": 4,
   "metadata": {},
   "outputs": [],
   "source": [
    "Y, evals = cmdscale(G)\n"
   ]
  },
  {
   "cell_type": "code",
   "execution_count": 5,
   "metadata": {},
   "outputs": [
    {
     "data": {
      "text/plain": [
       "(array([2.10583018e-08, 1.62195568e-08]),\n",
       " array([[ 5.48303081e-08,  0.00000000e+00,  0.00000000e+00, ...,\n",
       "          0.00000000e+00,  0.00000000e+00,  0.00000000e+00],\n",
       "        [-6.47412599e-05,  4.73262864e-06, -5.17165876e-06, ...,\n",
       "          1.79419686e-10, -4.09853234e-11,  9.28791372e-11]]))"
      ]
     },
     "execution_count": 5,
     "metadata": {},
     "output_type": "execute_result"
    }
   ],
   "source": [
    "evals[:2], Y[:2]"
   ]
  },
  {
   "cell_type": "code",
   "execution_count": 6,
   "metadata": {},
   "outputs": [
    {
     "name": "stdout",
     "output_type": "stream",
     "text": [
      "(2, 2364)\n"
     ]
    }
   ],
   "source": [
    "import matplotlib.pyplot as plt\n",
    "Y2 = Y[:2]*len(Y)\n",
    "print(Y2.shape)"
   ]
  },
  {
   "cell_type": "code",
   "execution_count": 7,
   "metadata": {},
   "outputs": [
    {
     "data": {
      "text/plain": [
       "<matplotlib.collections.PathCollection at 0x17c843a9220>"
      ]
     },
     "execution_count": 7,
     "metadata": {},
     "output_type": "execute_result"
    },
    {
     "data": {
      "image/png": "[encoded data removed]",
      "text/plain": [
       "<Figure size 432x288 with 1 Axes>"
      ]
     },
     "metadata": {
      "needs_background": "light"
     },
     "output_type": "display_data"
    }
   ],
   "source": [
    "plt.scatter(y=Y2[0], x=Y2[1])"
   ]
  },
  {
   "cell_type": "code",
   "execution_count": 8,
   "metadata": {},
   "outputs": [
    {
     "data": {
      "text/plain": [
       "array([-3.23706300e-01,  2.36631432e-02, -2.58582938e-02, ...,\n",
       "        8.97098428e-07, -2.04926617e-07,  4.64395686e-07])"
      ]
     },
     "execution_count": 8,
     "metadata": {},
     "output_type": "execute_result"
    }
   ],
   "source": [
    "Y2[1]"
   ]
  }
 ],
 "metadata": {
  "interpreter": {
   "hash": "46c56b00a886f01d69e776668ca12acc0de9f7c8f388e5060811cd7865d8f9b3"
  },
  "kernelspec": {
   "display_name": "Python 3.9.4 64-bit",
   "language": "python",
   "name": "python3"
  },
  "language_info": {
   "codemirror_mode": {
    "name": "ipython",
    "version": 3
   },
   "file_extension": ".py",
   "mimetype": "text/x-python",
   "name": "python",
   "nbconvert_exporter": "python",
   "pygments_lexer": "ipython3",
   "version": "3.9.4"
  },
  "orig_nbformat": 4
 },
 "nbformat": 4,
 "nbformat_minor": 2
}
