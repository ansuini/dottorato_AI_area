{
 "cells": [
  {
   "cell_type": "code",
   "execution_count": 34,
   "metadata": {},
   "outputs": [],
   "source": [
    "import numpy as np\n",
    "import pandas as pd\n",
    "\n",
    "def distance(x1,x2):\n",
    "    #x1, x2 = vectors of coordinates\n",
    "    dist = np.linalg.norm(x2-x1)\n",
    "    return dist\n",
    "\n",
    "\n",
    "\n",
    "x1 = np.array([1,1])\n",
    "x2 = np.array([2,2])\n",
    "assert distance( x1, x2) == distance( x2, x1)\n",
    "# verify that is definite positive\n",
    "#verify that sum of rows and columns = 0\n",
    "#verify that it is simmetric\n"
   ]
  }
 ],
 "metadata": {
  "interpreter": {
   "hash": "46c56b00a886f01d69e776668ca12acc0de9f7c8f388e5060811cd7865d8f9b3"
  },
  "kernelspec": {
   "display_name": "Python 3.9.4 64-bit",
   "language": "python",
   "name": "python3"
  },
  "language_info": {
   "codemirror_mode": {
    "name": "ipython",
    "version": 3
   },
   "file_extension": ".py",
   "mimetype": "text/x-python",
   "name": "python",
   "nbconvert_exporter": "python",
   "pygments_lexer": "ipython3",
   "version": "3.9.4"
  },
  "orig_nbformat": 4
 },
 "nbformat": 4,
 "nbformat_minor": 2
}
