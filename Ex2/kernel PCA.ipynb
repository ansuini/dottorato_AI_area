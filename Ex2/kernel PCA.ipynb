{
 "cells": [
  {
   "cell_type": "markdown",
   "metadata": {},
   "source": [
    "#ISOMAP"
   ]
  },
  {
   "cell_type": "code",
   "execution_count": null,
   "metadata": {},
   "outputs": [],
   "source": [
    "import numpy as np\n",
    "import matplotlib.pyplot as plt\n"
   ]
  },
  {
   "cell_type": "code",
   "execution_count": null,
   "metadata": {},
   "outputs": [],
   "source": [
    "from scipy.spatial.distance import cdist\n",
    "\n",
    "def distance_Matrix(X):\n",
    "    return cdist(X,X,'euclidean')"
   ]
  },
  {
   "cell_type": "code",
   "execution_count": null,
   "metadata": {},
   "outputs": [],
   "source": [
    "def Dijkstra(h):\n",
    "    q = h.copy()\n",
    "    for i in range(ndata):\n",
    "        for j in range(ndata):\n",
    "            k = np.argmin(q[i,:])\n",
    "            while not(np.isinf(q[i,k])):\n",
    "                q[i,k] = np.inf\n",
    "                for l in neighbours[k,:]:\n",
    "                    possible = h[i,l] + h[l,k]\n",
    "                    if possible < h[i,k]:\n",
    "                        h[i,k] = possible\n",
    "                k = np.argmin(q[i,:])\n",
    "    return h\n"
   ]
  },
  {
   "cell_type": "code",
   "execution_count": null,
   "metadata": {},
   "outputs": [],
   "source": [
    "\n",
    "def MDS(D,newdim=2):  \n",
    "\n",
    "    n = D.shape[0]\n",
    "    # Torgerson formula\n",
    "    I = np.eye(n)\n",
    "    J = np.ones(D.shape)\n",
    "    J = I-(1/n)*J\n",
    "    B = (-1/2)*np.dot(np.dot(J,D),np.dot(D,J))  # B = -(1/2).JD²J\n",
    "\n",
    "    # \n",
    "    eigenval, eigenvec = np.linalg.eig(B)\n",
    "    indices = np.argsort(eigenval)[::-1]   \n",
    "    eigenval = eigenval[indices]\n",
    "    eigenvec = eigenvec[:, indices]\n",
    "\n",
    "    # dimension reduction\n",
    "    K = eigenvec[:, :newdim]\n",
    "    L = np.diag(eigenval[:newdim])  \n",
    "    # result\n",
    "    Y = K @ L **(1/2)    \n",
    "    return np.real(Y)\n",
    "\n"
   ]
  },
  {
   "cell_type": "code",
   "execution_count": null,
   "metadata": {},
   "outputs": [],
   "source": [
    "def isomap(data,newdim=2,K=5):\n",
    "\n",
    "    ndata = np.shape(data)[0]\n",
    "    ndim = np.shape(data)[1]\n",
    "\n",
    "    d = distance_Matrix(X)\n",
    "\n",
    "    # replace begin \n",
    "    # K-nearest neighbours\n",
    "    indices = d.argsort()\n",
    "    #notneighbours = indices[:,K+1:]\n",
    "    neighbours = indices[:,:K+1]\n",
    "    # replace end\n",
    "\n",
    "    h = np.ones((ndata,ndata),dtype=float)*np.inf\n",
    "    for i in range(ndata):\n",
    "        h[i,neighbours[i,:]] = d[i,neighbours[i,:]]\n",
    "    h = Dijkstra(h)\n",
    "    return MDS(h,newdim)"
   ]
  },
  {
   "cell_type": "code",
   "execution_count": null,
   "metadata": {},
   "outputs": [],
   "source": [
    "import pandas as pd\n",
    "import os\n",
    "filename = os.getcwd()+\"\\\\datasets\\\\hyperplane.csv\"\n",
    "dataset=pd.read_csv(filename)\n",
    "\n",
    "limit_obs = 200\n",
    "limit_comp = 10\n",
    "X = dataset.iloc[:limit_obs, :limit_comp].values  \n",
    "y = dataset.iloc[:limit_obs, -1].values\n",
    "\n",
    "pd.DataFrame(X)"
   ]
  },
  {
   "cell_type": "code",
   "execution_count": null,
   "metadata": {},
   "outputs": [],
   "source": [
    "isomap(X,newdim=2,K=5)"
   ]
  }
 ],
 "metadata": {
  "interpreter": {
   "hash": "46c56b00a886f01d69e776668ca12acc0de9f7c8f388e5060811cd7865d8f9b3"
  },
  "kernelspec": {
   "display_name": "Python 3.9.4 64-bit",
   "language": "python",
   "name": "python3"
  },
  "language_info": {
   "codemirror_mode": {
    "name": "ipython",
    "version": 3
   },
   "file_extension": ".py",
   "mimetype": "text/x-python",
   "name": "python",
   "nbconvert_exporter": "python",
   "pygments_lexer": "ipython3",
   "version": "3.9.4"
  },
  "orig_nbformat": 4
 },
 "nbformat": 4,
 "nbformat_minor": 2
}
